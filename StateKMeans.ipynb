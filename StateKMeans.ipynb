{
 "cells": [
  {
   "cell_type": "markdown",
   "metadata": {},
   "source": [
    "Reads the preprocessed data files stored in /Data/Preprocessed Data"
   ]
  },
  {
   "cell_type": "code",
   "execution_count": 2,
   "metadata": {
    "colab": {},
    "colab_type": "code",
    "id": "R_kEy-qjRhnj"
   },
   "outputs": [],
   "source": [
    "import pandas as pd\n",
    "\n",
    "preProcessedUttarPradesh = pd.read_csv('./../Data/Preprocessed Data/preprocessedUttarPradesh.csv',low_memory = False)\n",
    "preProcessedMadhyaPradesh = pd.read_csv('./../Data/Preprocessed Data/preprocessedMadhyaPradesh.csv',low_memory=False)\n",
    "preProcessedBihar = pd.read_csv('./../Data/Preprocessed Data/preprocessedBihar.csv',low_memory=False)\n",
    "preProcessedUttarakhand = pd.read_csv('./../Data/Preprocessed Data/preprocessedUttarakhand.csv',low_memory=False)\n",
    "preProcessedOdisha = pd.read_csv('./../Data/Preprocessed Data/preprocessedOdisha.csv',low_memory=False)\n",
    "preProcessedJharkhand = pd.read_csv('./../Data/Preprocessed Data/preprocessedJharkhand.csv',low_memory=False)\n",
    "preProcessedChhattisgarh = pd.read_csv('./../Data/Preprocessed Data/preprocessedChhattisgarh.csv',low_memory=False)"
   ]
  },
  {
   "cell_type": "markdown",
   "metadata": {},
   "source": [
    "Plots unclustered data.\n",
    "Takes as input a data frame consisting of a pair of attributes to be plotted\n",
    "Output - Unclustered Scatter plot"
   ]
  },
  {
   "cell_type": "code",
   "execution_count": 0,
   "metadata": {
    "colab": {},
    "colab_type": "code",
    "id": "6HI2fjlmSACJ"
   },
   "outputs": [],
   "source": [
    "import matplotlib.pyplot as plt\n",
    "\n",
    "def plot_unclustered_data(data):\n",
    "    # plt.figure(figsize=(15,15)) # Uncomment to set figure size\n",
    "    plt.scatter(data.iloc[:,0],data.iloc[:,1],s=1,c='black',label='unclustered data')\n",
    "    plt.xlabel(data.columns[0]) # first column of dataframe as x-axis \n",
    "    plt.ylabel(data.columns[1]) # second column of dataframe as y-axis\n",
    "    plt.legend() # Comment to remove legend from the plot\n",
    "    plt.title('Plot of data points') # set title of the plot\n",
    "    plt.show()"
   ]
  },
  {
   "cell_type": "markdown",
   "metadata": {},
   "source": [
    "Plots clustered Data.\n",
    "Takes as input : \n",
    "1) A dictionary having key as the cluster number and value as array of data points belonging to that cluster.\n",
    "2) String containing the attribute name of the x-axis.\n",
    "3) String containing the attribute name of the y-axis.\n",
    "4) Array containing the centroids of each cluster in order.\n",
    "Outputs : \n",
    "Scatter Plot with different clusters in different colors"
   ]
  },
  {
   "cell_type": "code",
   "execution_count": 0,
   "metadata": {
    "colab": {},
    "colab_type": "code",
    "id": "L_SR8zpYSEHs"
   },
   "outputs": [],
   "source": [
    "import matplotlib.pyplot as plt\n",
    "\n",
    "def plot_clustered_data(clusters,labelx,labely,centroids):\n",
    "    plt.figure(figsize=(10,6)) # Set the size of the figure\n",
    "    K = len(clusters) # number of clusters\n",
    "    # List of colors for different clusters. Add more colors if number of clusters increase (>10)\n",
    "    color=['red','darkblue','darkgreen','magenta','lawngreen','cyan','yellow','grey','tan','chocolate']\n",
    "    # Set the labels of various clusters\n",
    "    labels=['cluster1','cluster2','cluster3','cluster4','cluster5','cluster6','cluster7','cluster8','cluster9','cluster10']\n",
    "    # Plot Clusters\n",
    "    for k in range(0,K):\n",
    "        # plt.scatter(clusters[k][:,0],clusters[k][:,1],s=1,c=color[k],label=labels[k]) # Uncomment to print labels\n",
    "        plt.scatter(clusters[k][:,0],clusters[k][:,1],s=8,c=color[k])\n",
    "    # plt.scatter(centroids[:,0],centroids[:,1],s=4,c='black',label='Centroids')\n",
    "    plt.scatter(centroids[:,0],centroids[:,1],s=12,c='black')\n",
    "    plt.xlabel(labelx) # Set x-axis label\n",
    "    plt.ylabel(labely) # Set y-axis label\n",
    "    plt.legend() # Comment to hide legend\n",
    "    plt.show()"
   ]
  },
  {
   "cell_type": "markdown",
   "metadata": {},
   "source": [
    "Performs K-Means Clustering.\n",
    "Takes Input : \n",
    "1) Number of Clusters.\n",
    "2) DataFrame containing pair of attributes to be clustered.\n",
    "3) max_iter - Number of iterations before stopping (you can change its value as per requirements)\n",
    "Note : 18 minutes running time for max_iter=100 on a dataframe with 1.5 Lakh rows\n",
    "Output : \n",
    "1) Numpy array containing Centroids of the clusters.\n",
    "2) Dictionary having key as Cluster number and value as an array of datapoints belonging to that cluster\n",
    "3) Inertia, i.e. within cluster sum of squared errors"
   ]
  },
  {
   "cell_type": "code",
   "execution_count": 0,
   "metadata": {
    "colab": {},
    "colab_type": "code",
    "id": "GDW0XJeWSHrE"
   },
   "outputs": [],
   "source": [
    "from scipy import spatial\n",
    "import numpy as np\n",
    "import pandas as pd\n",
    "\n",
    "def kmeans(k,data,max_iter=100):\n",
    "    # print(k)\n",
    "    data = data.astype(float)\n",
    "    num_features = len(data.columns) # number of features\n",
    "    data_arr = data.to_numpy() # coverting dataframe to numpy array\n",
    "    data_arr = data_arr[~np.isnan(data_arr).any(axis=1)] # removing nan values if any\n",
    "    data_arr = data_arr[~np.isinf(data_arr).any(axis=1)] # removing infinite values if any\n",
    "    df = pd.DataFrame(data=data_arr,columns=data.columns) \n",
    "    centroids = data.sample(n=k) # randomly sampling k datapoints as initial centroids\n",
    "    centroids = centroids.to_numpy() # converting them to numpy array\n",
    "\n",
    "    # print(centroids.shape)\n",
    "    # dist_matrix = np.array([]).reshape(len(data),0)\n",
    "    # print(centroids) # Uncomment to print the initial centroids\n",
    "    dist_matrix = []\n",
    "    for i in range(0,max_iter): # iterating max_iter times\n",
    "        dist_matrix = []\n",
    "        for datapt in data_arr: # for each datapoint\n",
    "            row = []\n",
    "            if(np.isnan(datapt).any() or np.isinf(datapt).any()): # ignore if the datapoint is nan or infinite\n",
    "                continue\n",
    "            for centroid in centroids: # calculate distance of each datapoint with each centroid\n",
    "                row.append(spatial.distance.euclidean(datapt,centroid))\n",
    "            dist_matrix.append(row) # append the values in distance matrix\n",
    "        dist_matrix = np.array(dist_matrix)\n",
    "        clusters = {}\n",
    "        for cluster in range(0,k):\n",
    "            clusters[cluster] = []\n",
    "        for row,num in zip(dist_matrix,range(0,len(data_arr))): # each datapoint to the cluster whose centroid it is closest to\n",
    "            clusters[np.argmin(row)].append(data_arr[num])\n",
    "        for cluster in range(0,k):\n",
    "            clusters[cluster] = np.array(clusters[cluster])\n",
    "            if(len(clusters[cluster]) > 0): # re calculate the centroids of each cluster\n",
    "                centroids[cluster] = np.mean(clusters[cluster],axis=0)\n",
    "        # print('------------------')\n",
    "    # print(centroids)\n",
    "    clusters = {}\n",
    "    inertia = 0\n",
    "    for cluster in range(0,k):\n",
    "        clusters[cluster] = []\n",
    "    for row,num in zip(dist_matrix,range(0,len(data_arr))): # calculate inertia\n",
    "        c_num = np.argmin(row)\n",
    "        clusters[c_num].append(data_arr[num])\n",
    "        inertia += (row[c_num])**2\n",
    "    \n",
    "    return centroids,clusters,inertia"
   ]
  },
  {
   "cell_type": "markdown",
   "metadata": {},
   "source": [
    "Used to determine the optimal value of 'k' to be given as input to k-means algorithm.\n",
    "Take input : \n",
    "1) dataframe consisting of pair of attributes to be clustered\n",
    "2) maximum number of clusters between which you want to find the optimal 'k' value.\n",
    "Gives Output : \n",
    "1) array of centroids for each 'k' value.\n",
    "2) array of clusters for each 'k' value."
   ]
  },
  {
   "cell_type": "code",
   "execution_count": 0,
   "metadata": {
    "colab": {},
    "colab_type": "code",
    "id": "E7dkBf08SMLU"
   },
   "outputs": [],
   "source": [
    "def elbow_method(data,max_clusters):\n",
    "    K = []    \n",
    "    distortions = []\n",
    "    centroids_arr = []\n",
    "    clusters_arr = []\n",
    "    for k in range(2,max_clusters): # find inertia for all 'k' values between (2,max_clusters) by calling kmeans function\n",
    "        centroids,clusters,inertia = kmeans(k,data)\n",
    "        centroids_arr.append(centroids)\n",
    "        clusters_arr.append(clusters)\n",
    "        distortions.append(inertia)\n",
    "        K.append(k)\n",
    "    \n",
    "    # plot the inertia obtained for all 'k'\n",
    "    plt.figure(figsize=(14,10))\n",
    "    plt.plot(K, distortions, 'bx-')\n",
    "    plt.xlabel('k')\n",
    "    plt.ylabel('Distortion')\n",
    "    plt.title('The Elbow Method showing the optimal k')\n",
    "    plt.show()\n",
    "\n",
    "    return centroids_arr,clusters_arr"
   ]
  },
  {
   "cell_type": "code",
   "execution_count": 0,
   "metadata": {
    "colab": {},
    "colab_type": "code",
    "id": "PNHjfCR9SP2n"
   },
   "outputs": [],
   "source": [
    "# states to be clustered\n",
    "states = [preProcessedBihar, preProcessedChhattisgarh, preProcessedMadhyaPradesh, preProcessedOdisha, preProcessedUttarakhand, preProcessedUttarPradesh, preProcessedJharkhand]"
   ]
  },
  {
   "cell_type": "code",
   "execution_count": 0,
   "metadata": {
    "colab": {},
    "colab_type": "code",
    "id": "06WgE2uXSWRl"
   },
   "outputs": [],
   "source": [
    "# attributes pairs to be clustered\n",
    "continuous_attributes = ['Age','Weight_in_kg','Length_height_cm','Haemoglobin_level','BP_systolic','BP_Diastolic','Pulse_rate','fasting_blood_glucose_mg_dl','BMI']"
   ]
  },
  {
   "cell_type": "code",
   "execution_count": 0,
   "metadata": {
    "colab": {},
    "colab_type": "code",
    "id": "GTgKEkFsSXdN"
   },
   "outputs": [],
   "source": [
    "# for each pair of attributes for each state find the optimal 'k' value by plotting elbow grapgh\n",
    "for s in range(0,len(states)):\n",
    "    for i in range(0,len(continuous_attributes)):\n",
    "        for j in range(i+1,len(continuous_attributes)):\n",
    "            df = states[s][[continuous_attributes[i],continuous_attributes[j]]]\n",
    "            elbow_method(df,15)"
   ]
  },
  {
   "cell_type": "code",
   "execution_count": 0,
   "metadata": {
    "colab": {},
    "colab_type": "code",
    "id": "-TDXUCqoSaf9"
   },
   "outputs": [],
   "source": [
    "# define your number of clusters for each pair of attributes for each state in this array from the elbow graphs obtained above\n",
    "k_arr =  [] "
   ]
  },
  {
   "cell_type": "code",
   "execution_count": 0,
   "metadata": {
    "colab": {},
    "colab_type": "code",
    "id": "RfYP5YmpSjDz"
   },
   "outputs": [],
   "source": [
    "# perform kmeans with the optimal 'k' value obtained\n",
    "import numpy as np\n",
    "\n",
    "itr = 0\n",
    "for s in range(0,len(states)):\n",
    "    for i in range(0,len(continuous_attributes)):\n",
    "        for j in range(i+1,len(continuous_attributes)):\n",
    "            df = states[s][[continuous_attributes[i],continuous_attributes[j]]]\n",
    "            centroids,clusters,_  = kmeans(k_arr[itr],df) # find centroids and clusters\n",
    "            for cluster in range(0,len(clusters)):\n",
    "                clusters[cluster] = np.row_stack(clusters[cluster])\n",
    "            centroids = np.row_stack(centroids)\n",
    "            labelx = continuous_attributes[i]\n",
    "            labely = continuous_attributes[j]\n",
    "            plot_clustered_data(clusters,labelx,labely,centroids) # plot clustered data\n",
    "            itr += 1"
   ]
  },
  {
   "attachments": {},
   "cell_type": "markdown",
   "metadata": {},
   "source": [
    "Attached below is a google colab notebook where we have plotted the clusters obtained from our algorithm and that obtained from the standard sklearn kmeans algorithm for comparing the results.\n",
    "\n",
    "https://colab.research.google.com/drive/1mnE7CXQq2oiccj58sthswK2PIt1m641w\n",
    "\n",
    "As you can see our the optimum 'k' value obtained from the elbow method was 8 and clusters of our algorithm and the standard algorithm were almost identical."
   ]
  }
 ],
 "metadata": {
  "colab": {
   "collapsed_sections": [],
   "name": "StateKMeans.ipynb",
   "provenance": []
  },
  "kernelspec": {
   "display_name": "Python 3",
   "language": "python",
   "name": "python3"
  },
  "language_info": {
   "codemirror_mode": {
    "name": "ipython",
    "version": 3
   },
   "file_extension": ".py",
   "mimetype": "text/x-python",
   "name": "python",
   "nbconvert_exporter": "python",
   "pygments_lexer": "ipython3",
   "version": "3.6.9"
  }
 },
 "nbformat": 4,
 "nbformat_minor": 1
}
